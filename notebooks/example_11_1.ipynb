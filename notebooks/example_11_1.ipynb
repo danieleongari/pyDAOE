{
 "cells": [
  {
   "cell_type": "markdown",
   "metadata": {},
   "source": [
    "# Example 11.1 (pag 494)"
   ]
  },
  {
   "cell_type": "code",
   "execution_count": 1,
   "metadata": {},
   "outputs": [
    {
     "data": {
      "text/html": [
       "<div>\n",
       "<style scoped>\n",
       "    .dataframe tbody tr th:only-of-type {\n",
       "        vertical-align: middle;\n",
       "    }\n",
       "\n",
       "    .dataframe tbody tr th {\n",
       "        vertical-align: top;\n",
       "    }\n",
       "\n",
       "    .dataframe thead th {\n",
       "        text-align: right;\n",
       "    }\n",
       "</style>\n",
       "<table border=\"1\" class=\"dataframe\">\n",
       "  <thead>\n",
       "    <tr style=\"text-align: right;\">\n",
       "      <th></th>\n",
       "      <th>Reaction Time (min)</th>\n",
       "      <th>Temperature (degC)</th>\n",
       "      <th>Yield (%)</th>\n",
       "    </tr>\n",
       "  </thead>\n",
       "  <tbody>\n",
       "    <tr>\n",
       "      <th>0</th>\n",
       "      <td>30</td>\n",
       "      <td>150</td>\n",
       "      <td>39.3</td>\n",
       "    </tr>\n",
       "    <tr>\n",
       "      <th>1</th>\n",
       "      <td>30</td>\n",
       "      <td>160</td>\n",
       "      <td>40.0</td>\n",
       "    </tr>\n",
       "    <tr>\n",
       "      <th>2</th>\n",
       "      <td>40</td>\n",
       "      <td>150</td>\n",
       "      <td>40.9</td>\n",
       "    </tr>\n",
       "  </tbody>\n",
       "</table>\n",
       "</div>"
      ],
      "text/plain": [
       "   Reaction Time (min)  Temperature (degC)  Yield (%)\n",
       "0                   30                 150       39.3\n",
       "1                   30                 160       40.0\n",
       "2                   40                 150       40.9"
      ]
     },
     "execution_count": 1,
     "metadata": {},
     "output_type": "execute_result"
    }
   ],
   "source": [
    "import statsmodels.api as sm\n",
    "from scipy import stats\n",
    "import pandas as pd\n",
    "from pathlib import Path\n",
    "\n",
    "import matplotlib.pyplot as plt\n",
    "%matplotlib inline\n",
    "\n",
    "TABS_DIR = Path(\"../tests/data\")\n",
    "\n",
    "df = pd.read_csv(TABS_DIR / \"tab_11_1.csv\")\n",
    "df.head(3)"
   ]
  },
  {
   "cell_type": "code",
   "execution_count": 2,
   "metadata": {},
   "outputs": [
    {
     "data": {
      "text/html": [
       "<div>\n",
       "<style scoped>\n",
       "    .dataframe tbody tr th:only-of-type {\n",
       "        vertical-align: middle;\n",
       "    }\n",
       "\n",
       "    .dataframe tbody tr th {\n",
       "        vertical-align: top;\n",
       "    }\n",
       "\n",
       "    .dataframe thead th {\n",
       "        text-align: right;\n",
       "    }\n",
       "</style>\n",
       "<table border=\"1\" class=\"dataframe\">\n",
       "  <thead>\n",
       "    <tr style=\"text-align: right;\">\n",
       "      <th></th>\n",
       "      <th>Reaction Time (min)</th>\n",
       "      <th>Temperature (degC)</th>\n",
       "      <th>Yield (%)</th>\n",
       "    </tr>\n",
       "  </thead>\n",
       "  <tbody>\n",
       "    <tr>\n",
       "      <th>0</th>\n",
       "      <td>-1</td>\n",
       "      <td>-1</td>\n",
       "      <td>39.3</td>\n",
       "    </tr>\n",
       "    <tr>\n",
       "      <th>1</th>\n",
       "      <td>-1</td>\n",
       "      <td>1</td>\n",
       "      <td>40.0</td>\n",
       "    </tr>\n",
       "    <tr>\n",
       "      <th>2</th>\n",
       "      <td>1</td>\n",
       "      <td>-1</td>\n",
       "      <td>40.9</td>\n",
       "    </tr>\n",
       "    <tr>\n",
       "      <th>3</th>\n",
       "      <td>1</td>\n",
       "      <td>1</td>\n",
       "      <td>41.5</td>\n",
       "    </tr>\n",
       "    <tr>\n",
       "      <th>4</th>\n",
       "      <td>0</td>\n",
       "      <td>0</td>\n",
       "      <td>40.3</td>\n",
       "    </tr>\n",
       "    <tr>\n",
       "      <th>5</th>\n",
       "      <td>0</td>\n",
       "      <td>0</td>\n",
       "      <td>40.5</td>\n",
       "    </tr>\n",
       "    <tr>\n",
       "      <th>6</th>\n",
       "      <td>0</td>\n",
       "      <td>0</td>\n",
       "      <td>40.7</td>\n",
       "    </tr>\n",
       "    <tr>\n",
       "      <th>7</th>\n",
       "      <td>0</td>\n",
       "      <td>0</td>\n",
       "      <td>40.2</td>\n",
       "    </tr>\n",
       "    <tr>\n",
       "      <th>8</th>\n",
       "      <td>0</td>\n",
       "      <td>0</td>\n",
       "      <td>40.6</td>\n",
       "    </tr>\n",
       "  </tbody>\n",
       "</table>\n",
       "</div>"
      ],
      "text/plain": [
       "   Reaction Time (min)  Temperature (degC)  Yield (%)\n",
       "0                   -1                  -1       39.3\n",
       "1                   -1                   1       40.0\n",
       "2                    1                  -1       40.9\n",
       "3                    1                   1       41.5\n",
       "4                    0                   0       40.3\n",
       "5                    0                   0       40.5\n",
       "6                    0                   0       40.7\n",
       "7                    0                   0       40.2\n",
       "8                    0                   0       40.6"
      ]
     },
     "execution_count": 2,
     "metadata": {},
     "output_type": "execute_result"
    }
   ],
   "source": [
    "# Transform to coded variables\n",
    "dfcod = df.copy()\n",
    "for var in ['Reaction Time (min)','Temperature (degC)']:\n",
    "    vmin, vmax = df[var].min(), df[var].max()\n",
    "    vzer = (vmin+vmax)/2\n",
    "    dfcod[var] = df[var].replace({vmin:-1, vzer:0, vmax:+1})\n",
    "dfcod"
   ]
  },
  {
   "cell_type": "code",
   "execution_count": 3,
   "metadata": {},
   "outputs": [
    {
     "name": "stderr",
     "output_type": "stream",
     "text": [
      "/Users/danieleongari/opt/anaconda3/envs/pydoe/lib/python3.9/site-packages/scipy/stats/stats.py:1541: UserWarning: kurtosistest only valid for n>=20 ... continuing anyway, n=9\n",
      "  warnings.warn(\"kurtosistest only valid for n>=20 ... continuing \"\n"
     ]
    },
    {
     "data": {
      "text/html": [
       "<table class=\"simpletable\">\n",
       "<caption>OLS Regression Results</caption>\n",
       "<tr>\n",
       "  <th>Dep. Variable:</th>        <td>Yield (%)</td>    <th>  R-squared:         </th> <td>   0.941</td>\n",
       "</tr>\n",
       "<tr>\n",
       "  <th>Model:</th>                   <td>OLS</td>       <th>  Adj. R-squared:    </th> <td>   0.921</td>\n",
       "</tr>\n",
       "<tr>\n",
       "  <th>Method:</th>             <td>Least Squares</td>  <th>  F-statistic:       </th> <td>   47.82</td>\n",
       "</tr>\n",
       "<tr>\n",
       "  <th>Date:</th>             <td>Tue, 09 Nov 2021</td> <th>  Prob (F-statistic):</th> <td>0.000206</td>\n",
       "</tr>\n",
       "<tr>\n",
       "  <th>Time:</th>                 <td>10:20:35</td>     <th>  Log-Likelihood:    </th> <td>  4.9036</td>\n",
       "</tr>\n",
       "<tr>\n",
       "  <th>No. Observations:</th>      <td>     9</td>      <th>  AIC:               </th> <td>  -3.807</td>\n",
       "</tr>\n",
       "<tr>\n",
       "  <th>Df Residuals:</th>          <td>     6</td>      <th>  BIC:               </th> <td>  -3.216</td>\n",
       "</tr>\n",
       "<tr>\n",
       "  <th>Df Model:</th>              <td>     2</td>      <th>                     </th>     <td> </td>   \n",
       "</tr>\n",
       "<tr>\n",
       "  <th>Covariance Type:</th>      <td>nonrobust</td>    <th>                     </th>     <td> </td>   \n",
       "</tr>\n",
       "</table>\n",
       "<table class=\"simpletable\">\n",
       "<tr>\n",
       "           <td></td>              <th>coef</th>     <th>std err</th>      <th>t</th>      <th>P>|t|</th>  <th>[0.025</th>    <th>0.975]</th>  \n",
       "</tr>\n",
       "<tr>\n",
       "  <th>const</th>               <td>   40.4444</td> <td>    0.057</td> <td>  705.987</td> <td> 0.000</td> <td>   40.304</td> <td>   40.585</td>\n",
       "</tr>\n",
       "<tr>\n",
       "  <th>Reaction Time (min)</th> <td>    0.7750</td> <td>    0.086</td> <td>    9.019</td> <td> 0.000</td> <td>    0.565</td> <td>    0.985</td>\n",
       "</tr>\n",
       "<tr>\n",
       "  <th>Temperature (degC)</th>  <td>    0.3250</td> <td>    0.086</td> <td>    3.782</td> <td> 0.009</td> <td>    0.115</td> <td>    0.535</td>\n",
       "</tr>\n",
       "</table>\n",
       "<table class=\"simpletable\">\n",
       "<tr>\n",
       "  <th>Omnibus:</th>       <td> 0.188</td> <th>  Durbin-Watson:     </th> <td>   2.850</td>\n",
       "</tr>\n",
       "<tr>\n",
       "  <th>Prob(Omnibus):</th> <td> 0.910</td> <th>  Jarque-Bera (JB):  </th> <td>   0.098</td>\n",
       "</tr>\n",
       "<tr>\n",
       "  <th>Skew:</th>          <td> 0.114</td> <th>  Prob(JB):          </th> <td>   0.952</td>\n",
       "</tr>\n",
       "<tr>\n",
       "  <th>Kurtosis:</th>      <td> 2.543</td> <th>  Cond. No.          </th> <td>    1.50</td>\n",
       "</tr>\n",
       "</table><br/><br/>Notes:<br/>[1] Standard Errors assume that the covariance matrix of the errors is correctly specified."
      ],
      "text/plain": [
       "<class 'statsmodels.iolib.summary.Summary'>\n",
       "\"\"\"\n",
       "                            OLS Regression Results                            \n",
       "==============================================================================\n",
       "Dep. Variable:              Yield (%)   R-squared:                       0.941\n",
       "Model:                            OLS   Adj. R-squared:                  0.921\n",
       "Method:                 Least Squares   F-statistic:                     47.82\n",
       "Date:                Tue, 09 Nov 2021   Prob (F-statistic):           0.000206\n",
       "Time:                        10:20:35   Log-Likelihood:                 4.9036\n",
       "No. Observations:                   9   AIC:                            -3.807\n",
       "Df Residuals:                       6   BIC:                            -3.216\n",
       "Df Model:                           2                                         \n",
       "Covariance Type:            nonrobust                                         \n",
       "=======================================================================================\n",
       "                          coef    std err          t      P>|t|      [0.025      0.975]\n",
       "---------------------------------------------------------------------------------------\n",
       "const                  40.4444      0.057    705.987      0.000      40.304      40.585\n",
       "Reaction Time (min)     0.7750      0.086      9.019      0.000       0.565       0.985\n",
       "Temperature (degC)      0.3250      0.086      3.782      0.009       0.115       0.535\n",
       "==============================================================================\n",
       "Omnibus:                        0.188   Durbin-Watson:                   2.850\n",
       "Prob(Omnibus):                  0.910   Jarque-Bera (JB):                0.098\n",
       "Skew:                           0.114   Prob(JB):                        0.952\n",
       "Kurtosis:                       2.543   Cond. No.                         1.50\n",
       "==============================================================================\n",
       "\n",
       "Notes:\n",
       "[1] Standard Errors assume that the covariance matrix of the errors is correctly specified.\n",
       "\"\"\""
      ]
     },
     "execution_count": 3,
     "metadata": {},
     "output_type": "execute_result"
    }
   ],
   "source": [
    "x = sm.add_constant(dfcod[['Reaction Time (min)','Temperature (degC)']]) # Add a column of ones to an array.\n",
    "y = dfcod['Yield (%)']\n",
    "model = sm.OLS(y,x)\n",
    "res = model.fit()\n",
    "res.summary()"
   ]
  },
  {
   "cell_type": "code",
   "execution_count": 4,
   "metadata": {},
   "outputs": [
    {
     "data": {
      "image/png": "[encoded data removed]",
      "text/plain": [
       "<Figure size 432x288 with 1 Axes>"
      ]
     },
     "metadata": {
      "needs_background": "light"
     },
     "output_type": "display_data"
    }
   ],
   "source": [
    "plt.scatter(y, res.predict())\n",
    "alldata = list(y) + list(res.predict())\n",
    "plt.plot([min(alldata), max(alldata)],[min(alldata), max(alldata)], color='red')\n",
    "plt.xlabel(f'{y.name} observed')\n",
    "plt.ylabel(f'{y.name} predicted')\n",
    "plt.show()"
   ]
  },
  {
   "cell_type": "code",
   "execution_count": 5,
   "metadata": {},
   "outputs": [
    {
     "name": "stdout",
     "output_type": "stream",
     "text": [
      "P-Value: 0.8213 -> hypotesis rejected\n"
     ]
    }
   ],
   "source": [
    "# Hypothesis: non-null interaction\n",
    "dfcod_blank = dfcod[(dfcod['Reaction Time (min)']==0) & (dfcod['Temperature (degC)']==0)] # center points\n",
    "dfcod_treat = dfcod[(dfcod['Reaction Time (min)']!=0) & (dfcod['Temperature (degC)']!=0)] # factorial portion\n",
    "sigma_cap_2 = dfcod_blank['Yield (%)'].var()\n",
    "beta_cap_12 = dfcod_treat.product(axis=1).mean()\n",
    "ss = dfcod_treat.product(axis=1).sum()**2/4\n",
    "f0 = ss/sigma_cap_2\n",
    "dof = len(dfcod_blank) - len(dfcod_treat)\n",
    "dof_error = len(dfcod_blank) - 1\n",
    "pval = stats.f(dof, dof_error).sf(f0)\n",
    "print(f\"P-Value: {pval:.4f} -> hypotesis\", [\"rejected\", \"accepted\"][int(pval<0.05)])"
   ]
  },
  {
   "cell_type": "code",
   "execution_count": 6,
   "metadata": {},
   "outputs": [
    {
     "name": "stdout",
     "output_type": "stream",
     "text": [
      "P-Value: 0.8137 -> hypotesis rejected\n"
     ]
    }
   ],
   "source": [
    "# Hypothesis: second-order curvature (explained in Chap. 6.8)\n",
    "dfcod_blank = dfcod[(dfcod['Reaction Time (min)']==0) & (dfcod['Temperature (degC)']==0)] # center points\n",
    "dfcod_treat = dfcod[(dfcod['Reaction Time (min)']!=0) & (dfcod['Temperature (degC)']!=0)] # factorial portion\n",
    "yf = dfcod_blank['Yield (%)'].mean()\n",
    "yc = dfcod_treat['Yield (%)'].mean()\n",
    "sigma_cap_2 = dfcod_blank['Yield (%)'].var()\n",
    "ss = len(dfcod_blank)*len(dfcod_treat)*(yf-yc)**2/(len(dfcod_blank)+len(dfcod_treat))\n",
    "f0 = ss/sigma_cap_2\n",
    "dof = len(dfcod_blank) - len(dfcod_treat)\n",
    "dof_error = len(dfcod_blank) - 1\n",
    "pval = stats.f(dof, dof_error).sf(f0)\n",
    "print(f\"P-Value: {pval:.4f} -> hypotesis\", [\"rejected\", \"accepted\"][int(pval<0.05)])"
   ]
  },
  {
   "cell_type": "code",
   "execution_count": 7,
   "metadata": {},
   "outputs": [
    {
     "name": "stdout",
     "output_type": "stream",
     "text": [
      "Step 0 - Time: 35.0 min, Temperature: 155.0 degC\n",
      "Step 1 - Time: 40.0 min, Temperature: 157.1 degC\n",
      "Step 2 - Time: 45.0 min, Temperature: 159.2 degC\n",
      "Step 3 - Time: 50.0 min, Temperature: 161.3 degC\n",
      "Step 4 - Time: 55.0 min, Temperature: 163.4 degC\n",
      "Step 5 - Time: 60.0 min, Temperature: 165.5 degC\n",
      "Step 6 - Time: 65.0 min, Temperature: 167.6 degC\n",
      "Step 7 - Time: 70.0 min, Temperature: 169.7 degC\n",
      "Step 8 - Time: 75.0 min, Temperature: 171.8 degC\n",
      "Step 9 - Time: 80.0 min, Temperature: 173.9 degC\n"
     ]
    }
   ],
   "source": [
    "# Stepest gradient path (x1: Reaction Time, x2: Temperature)\n",
    "delta_x1 = 1 # coded units\n",
    "delta_x2 = delta_x1 * res.params['Temperature (degC)'] / res.params['Reaction Time (min)'] # coded units\n",
    "\n",
    "# Convert to natural units\n",
    "delta_x1 *= (df['Reaction Time (min)'].max() - df['Reaction Time (min)'].min())/((1)-(-1)) # min (Reaction Time)\n",
    "delta_x2 *=  (df['Temperature (degC)'].max() - df['Temperature (degC)'].min())/((1)-(-1)) # degC (temperature)\n",
    "\n",
    "origin = (df['Temperature (degC)'].values[-1], df['Reaction Time (min)'].values[-1])\n",
    "for i in range(10):\n",
    "    print(f\"Step {i} - Time: {origin[1]+i*delta_x1:.1f} min, Temperature: {origin[0]+i*delta_x2:.1f} degC\")"
   ]
  },
  {
   "cell_type": "markdown",
   "metadata": {},
   "source": [
    "## Second part with new data"
   ]
  },
  {
   "cell_type": "code",
   "execution_count": 8,
   "metadata": {},
   "outputs": [
    {
     "data": {
      "text/html": [
       "<div>\n",
       "<style scoped>\n",
       "    .dataframe tbody tr th:only-of-type {\n",
       "        vertical-align: middle;\n",
       "    }\n",
       "\n",
       "    .dataframe tbody tr th {\n",
       "        vertical-align: top;\n",
       "    }\n",
       "\n",
       "    .dataframe thead th {\n",
       "        text-align: right;\n",
       "    }\n",
       "</style>\n",
       "<table border=\"1\" class=\"dataframe\">\n",
       "  <thead>\n",
       "    <tr style=\"text-align: right;\">\n",
       "      <th></th>\n",
       "      <th>Reaction Time (min)</th>\n",
       "      <th>Temperature (degC)</th>\n",
       "      <th>Yield (%)</th>\n",
       "    </tr>\n",
       "  </thead>\n",
       "  <tbody>\n",
       "    <tr>\n",
       "      <th>0</th>\n",
       "      <td>80</td>\n",
       "      <td>170</td>\n",
       "      <td>76.5</td>\n",
       "    </tr>\n",
       "    <tr>\n",
       "      <th>1</th>\n",
       "      <td>80</td>\n",
       "      <td>180</td>\n",
       "      <td>77.0</td>\n",
       "    </tr>\n",
       "    <tr>\n",
       "      <th>2</th>\n",
       "      <td>90</td>\n",
       "      <td>170</td>\n",
       "      <td>78.0</td>\n",
       "    </tr>\n",
       "  </tbody>\n",
       "</table>\n",
       "</div>"
      ],
      "text/plain": [
       "   Reaction Time (min)  Temperature (degC)  Yield (%)\n",
       "0                   80                 170       76.5\n",
       "1                   80                 180       77.0\n",
       "2                   90                 170       78.0"
      ]
     },
     "execution_count": 8,
     "metadata": {},
     "output_type": "execute_result"
    }
   ],
   "source": [
    "df = pd.read_csv(TABS_DIR / \"tab_11_4.csv\")\n",
    "df.head(3)"
   ]
  },
  {
   "cell_type": "code",
   "execution_count": 9,
   "metadata": {},
   "outputs": [
    {
     "data": {
      "text/html": [
       "<div>\n",
       "<style scoped>\n",
       "    .dataframe tbody tr th:only-of-type {\n",
       "        vertical-align: middle;\n",
       "    }\n",
       "\n",
       "    .dataframe tbody tr th {\n",
       "        vertical-align: top;\n",
       "    }\n",
       "\n",
       "    .dataframe thead th {\n",
       "        text-align: right;\n",
       "    }\n",
       "</style>\n",
       "<table border=\"1\" class=\"dataframe\">\n",
       "  <thead>\n",
       "    <tr style=\"text-align: right;\">\n",
       "      <th></th>\n",
       "      <th>Reaction Time (min)</th>\n",
       "      <th>Temperature (degC)</th>\n",
       "      <th>Yield (%)</th>\n",
       "    </tr>\n",
       "  </thead>\n",
       "  <tbody>\n",
       "    <tr>\n",
       "      <th>0</th>\n",
       "      <td>-1</td>\n",
       "      <td>-1</td>\n",
       "      <td>76.5</td>\n",
       "    </tr>\n",
       "    <tr>\n",
       "      <th>1</th>\n",
       "      <td>-1</td>\n",
       "      <td>1</td>\n",
       "      <td>77.0</td>\n",
       "    </tr>\n",
       "    <tr>\n",
       "      <th>2</th>\n",
       "      <td>1</td>\n",
       "      <td>-1</td>\n",
       "      <td>78.0</td>\n",
       "    </tr>\n",
       "    <tr>\n",
       "      <th>3</th>\n",
       "      <td>1</td>\n",
       "      <td>1</td>\n",
       "      <td>79.5</td>\n",
       "    </tr>\n",
       "    <tr>\n",
       "      <th>4</th>\n",
       "      <td>0</td>\n",
       "      <td>0</td>\n",
       "      <td>79.9</td>\n",
       "    </tr>\n",
       "    <tr>\n",
       "      <th>5</th>\n",
       "      <td>0</td>\n",
       "      <td>0</td>\n",
       "      <td>80.3</td>\n",
       "    </tr>\n",
       "    <tr>\n",
       "      <th>6</th>\n",
       "      <td>0</td>\n",
       "      <td>0</td>\n",
       "      <td>80.0</td>\n",
       "    </tr>\n",
       "    <tr>\n",
       "      <th>7</th>\n",
       "      <td>0</td>\n",
       "      <td>0</td>\n",
       "      <td>79.7</td>\n",
       "    </tr>\n",
       "    <tr>\n",
       "      <th>8</th>\n",
       "      <td>0</td>\n",
       "      <td>0</td>\n",
       "      <td>79.8</td>\n",
       "    </tr>\n",
       "  </tbody>\n",
       "</table>\n",
       "</div>"
      ],
      "text/plain": [
       "   Reaction Time (min)  Temperature (degC)  Yield (%)\n",
       "0                   -1                  -1       76.5\n",
       "1                   -1                   1       77.0\n",
       "2                    1                  -1       78.0\n",
       "3                    1                   1       79.5\n",
       "4                    0                   0       79.9\n",
       "5                    0                   0       80.3\n",
       "6                    0                   0       80.0\n",
       "7                    0                   0       79.7\n",
       "8                    0                   0       79.8"
      ]
     },
     "execution_count": 9,
     "metadata": {},
     "output_type": "execute_result"
    }
   ],
   "source": [
    "# Transform to coded variables\n",
    "dfcod = df.copy()\n",
    "for var in ['Reaction Time (min)','Temperature (degC)']:\n",
    "    vmin, vmax = df[var].min(), df[var].max()\n",
    "    vzer = (vmin+vmax)/2\n",
    "    dfcod[var] = df[var].replace({vmin:-1, vzer:0, vmax:+1})\n",
    "dfcod"
   ]
  },
  {
   "cell_type": "code",
   "execution_count": 10,
   "metadata": {},
   "outputs": [
    {
     "name": "stdout",
     "output_type": "stream",
     "text": [
      "P-Value: 0.0956 -> hypotesis rejected\n"
     ]
    }
   ],
   "source": [
    "# Hypothesis: non-null interaction\n",
    "dfcod_blank = dfcod[(dfcod['Reaction Time (min)']==0) & (dfcod['Temperature (degC)']==0)] # center points\n",
    "dfcod_treat = dfcod[(dfcod['Reaction Time (min)']!=0) & (dfcod['Temperature (degC)']!=0)] # factorial portion\n",
    "sigma_cap_2 = dfcod_blank['Yield (%)'].var()\n",
    "beta_cap_12 = dfcod_treat.product(axis=1).mean()\n",
    "ss = dfcod_treat.product(axis=1).sum()**2/4\n",
    "f0 = ss/sigma_cap_2\n",
    "dof = len(dfcod_blank) - len(dfcod_treat)\n",
    "dof_error = len(dfcod_blank) - 1\n",
    "pval = stats.f(dof, dof_error).sf(f0)\n",
    "print(f\"P-Value: {pval:.4f} -> hypotesis\", [\"rejected\", \"accepted\"][int(pval<0.05)])"
   ]
  },
  {
   "cell_type": "code",
   "execution_count": 11,
   "metadata": {},
   "outputs": [
    {
     "name": "stdout",
     "output_type": "stream",
     "text": [
      "P-Value: 0.0001 -> hypotesis accepted\n"
     ]
    }
   ],
   "source": [
    "# Hypothesis: second-order curvature (explained in Chap. 6.8)\n",
    "dfcod_blank = dfcod[(dfcod['Reaction Time (min)']==0) & (dfcod['Temperature (degC)']==0)] # center points\n",
    "dfcod_treat = dfcod[(dfcod['Reaction Time (min)']!=0) & (dfcod['Temperature (degC)']!=0)] # factorial portion\n",
    "yf = dfcod_blank['Yield (%)'].mean()\n",
    "yc = dfcod_treat['Yield (%)'].mean()\n",
    "sigma_cap_2 = dfcod_blank['Yield (%)'].var()\n",
    "ss = len(dfcod_blank)*len(dfcod_treat)*(yf-yc)**2/(len(dfcod_blank)+len(dfcod_treat))\n",
    "f0 = ss/sigma_cap_2\n",
    "dof = len(dfcod_blank) - len(dfcod_treat)\n",
    "dof_error = len(dfcod_blank) - 1\n",
    "pval = stats.f(dof, dof_error).sf(f0)\n",
    "print(f\"P-Value: {pval:.4f} -> hypotesis\", [\"rejected\", \"accepted\"][int(pval<0.05)])"
   ]
  }
 ],
 "metadata": {
  "interpreter": {
   "hash": "39eb6b3c0d254736ee3e9e92eeb8d5bf4eaf95290618792e310f9a5cf2ed3c70"
  },
  "kernelspec": {
   "display_name": "Python 3.9.7 64-bit ('pydoe': conda)",
   "language": "python",
   "name": "python3"
  },
  "language_info": {
   "codemirror_mode": {
    "name": "ipython",
    "version": 3
   },
   "file_extension": ".py",
   "mimetype": "text/x-python",
   "name": "python",
   "nbconvert_exporter": "python",
   "pygments_lexer": "ipython3",
   "version": "3.9.7"
  },
  "orig_nbformat": 4
 },
 "nbformat": 4,
 "nbformat_minor": 2
}
